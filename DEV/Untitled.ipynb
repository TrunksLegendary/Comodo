{
 "cells": [
  {
   "cell_type": "code",
   "execution_count": 5,
   "metadata": {},
   "outputs": [
    {
     "name": "stderr",
     "output_type": "stream",
     "text": [
      "INFO:__main__:Hello baby\n"
     ]
    }
   ],
   "source": [
    "import logging\n",
    "\n",
    "logger = logging.getLogger(__name__)\n",
    "logger.setLevel(logging.INFO)\n",
    "\n",
    "# create a file handler\n",
    "handler = logging.FileHandler('hello2.log')\n",
    "handler.setLevel(logging.INFO)\n",
    "\n",
    "# create a logging format\n",
    "formatter = logging.Formatter('%(asctime)s - %(name)s - %(levelname)s - %(message)s')\n",
    "handler.setFormatter(formatter)\n",
    "\n",
    "# add the handlers to the logger\n",
    "logger.addHandler(handler)\n",
    "\n",
    "logger.info('Hello baby')"
   ]
  },
  {
   "cell_type": "code",
   "execution_count": 2,
   "metadata": {},
   "outputs": [
    {
     "name": "stdout",
     "output_type": "stream",
     "text": [
      "<open file 'C:\\\\Windows\\\\system32\\notepad.exe', mode 'r' at 0x0000000005666D20>\n"
     ]
    }
   ],
   "source": [
    "import time\n",
    "import os\n",
    "import ctypes\n",
    "\n",
    "class disable_file_system_redirection:\n",
    "    _disable = ctypes.windll.kernel32.Wow64DisableWow64FsRedirection\n",
    "    _revert = ctypes.windll.kernel32.Wow64RevertWow64FsRedirection\n",
    "    def __enter__(self):\n",
    "        self.old_value = ctypes.c_long()\n",
    "        self.success = self._disable(ctypes.byref(self.old_value))\n",
    "    def __exit__(self, type, value, traceback):\n",
    "        if self.success:\n",
    "            self._revert(self.old_value)\n",
    "\n",
    "with disable_file_system_redirection():\n",
    "    proc = os.popen('C:\\Windows\\system32\\notepad.exe')\n",
    "    print (proc)\n",
    "    # os.remove(\"C:\\ProgramData\\Comodo\\Firewall Pro\\cislogs.sdb\")"
   ]
  },
  {
   "cell_type": "code",
   "execution_count": null,
   "metadata": {},
   "outputs": [],
   "source": []
  }
 ],
 "metadata": {
  "kernelspec": {
   "display_name": "Python 2",
   "language": "python",
   "name": "python2"
  },
  "language_info": {
   "codemirror_mode": {
    "name": "ipython",
    "version": 2
   },
   "file_extension": ".py",
   "mimetype": "text/x-python",
   "name": "python",
   "nbconvert_exporter": "python",
   "pygments_lexer": "ipython2",
   "version": "2.7.15"
  }
 },
 "nbformat": 4,
 "nbformat_minor": 2
}
