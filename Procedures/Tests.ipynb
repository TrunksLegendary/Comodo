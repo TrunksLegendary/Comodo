{
 "cells": [
  {
   "cell_type": "code",
   "execution_count": 1,
   "metadata": {},
   "outputs": [],
   "source": [
    "RemoveApp = ['Sophos Patch Agent', \n",
    "             'Sophos Network Threat Protection', \n",
    "             'Sophos System Protection', \n",
    "             'Sophos Anti-Virus', \n",
    "             'Sophos Remote Management System', \n",
    "             'Sophos AutoUpdate']\n",
    "\n",
    "for x in RemoveApp:\n",
    "    app = checkapp(x)\n",
    "    if app:\n",
    "        print \"Sophos Anti-Virus is Found in the system\"\n",
    "        uni()\n",
    "        r=recheck()\n",
    "        else:\n",
    "            print \"\\nSophos Anti-Virus is not found in the system\"\n",
    "            r=1"
   ]
  },
  {
   "cell_type": "code",
   "execution_count": 3,
   "metadata": {},
   "outputs": [
    {
     "name": "stdout",
     "output_type": "stream",
     "text": [
      "Sophos Remote Management System\n"
     ]
    }
   ],
   "source": [
    "print (RemoveApp[4])"
   ]
  },
  {
   "cell_type": "code",
   "execution_count": 8,
   "metadata": {},
   "outputs": [
    {
     "name": "stdout",
     "output_type": "stream",
     "text": [
      "Hello Sophos Patch Agent\n",
      "Hello Sophos Network Threat Protection\n",
      "Hello Sophos System Protection\n",
      "Hello Sophos Anti-Virus\n",
      "Hello Sophos Remote Management System\n",
      "Hello Sophos AutoUpdate\n"
     ]
    }
   ],
   "source": [
    "for x in RemoveApp:\n",
    "    app = x\n",
    "    print (\"Hello \" + app)"
   ]
  },
  {
   "cell_type": "code",
   "execution_count": null,
   "metadata": {},
   "outputs": [],
   "source": [
    "app1=checkapp('Sophos Patch Agent')"
   ]
  }
 ],
 "metadata": {
  "kernelspec": {
   "display_name": "Python 2",
   "language": "python",
   "name": "python2"
  },
  "language_info": {
   "codemirror_mode": {
    "name": "ipython",
    "version": 2
   },
   "file_extension": ".py",
   "mimetype": "text/x-python",
   "name": "python",
   "nbconvert_exporter": "python",
   "pygments_lexer": "ipython2",
   "version": "2.7.15"
  }
 },
 "nbformat": 4,
 "nbformat_minor": 2
}
