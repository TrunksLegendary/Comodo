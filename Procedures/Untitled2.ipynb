{
 "cells": [
  {
   "cell_type": "code",
   "execution_count": 51,
   "metadata": {},
   "outputs": [
    {
     "name": "stdout",
     "output_type": "stream",
     "text": [
      "Uninstallting Sophos Patch Agent\n",
      "\n",
      "\n",
      "Sophos need to restart your  system and run the script Again\n",
      "Sophos Patch Agent is not installed\n",
      "Uninstallting Sophos Network Threat Protection\n",
      "\n",
      "\n",
      "Sophos need to restart your  system and run the script Again\n",
      "Sophos Network Threat Protection is not installed\n",
      "Uninstallting Sophos System Protection\n",
      "\n",
      "\n",
      "Sophos need to restart your  system and run the script Again\n",
      "Sophos System Protection is not installed\n",
      "Uninstallting Sophos Anti-Virus\n",
      "\n",
      "\n",
      "Sophos need to restart your  system and run the script Again\n",
      "Sophos Anti-Virus is not installed\n",
      "Uninstallting Sophos Remote Management System\n",
      "\n",
      "\n",
      "Sophos need to restart your  system and run the script Again\n",
      "Sophos Remote Management System is not installed\n",
      "Uninstallting Sophos AutoUpdate\n",
      "\n",
      "\n",
      "Sophos need to restart your  system and run the script Again\n",
      "Sophos AutoUpdate is not installed\n"
     ]
    }
   ],
   "source": [
    "import os\n",
    "import subprocess\n",
    "\n",
    "\n",
    "def ExecuteCMD(CMD, RES = False):\n",
    "    import ctypes\n",
    "    class disable_file_system_redirection:\n",
    "        _disable = ctypes.windll.kernel32.Wow64DisableWow64FsRedirection\n",
    "        _revert = ctypes.windll.kernel32.Wow64RevertWow64FsRedirection\n",
    "        def __enter__(self):\n",
    "            self.old_value = ctypes.c_long()\n",
    "            self.success = self._disable(ctypes.byref(self.old_value))\n",
    "        def __exit__(self, type, value, traceback):\n",
    "            if self.success:\n",
    "                self._revert(self.old_value)\n",
    "\n",
    "    from subprocess import PIPE, Popen\n",
    "    with disable_file_system_redirection():\n",
    "        OBJ = Popen(CMD, shell = True, stdout = PIPE, stderr = PIPE)\n",
    "    out, err = OBJ.communicate()\n",
    "    print out\n",
    "    print err\n",
    "    RET = OBJ.returncode\n",
    "    if RET == 0:\n",
    "        if RES == True:\n",
    "            if out:\n",
    "                return out.strip()\n",
    "            else:\n",
    "                return True\n",
    "        else:\n",
    "            return True\n",
    "    else:\n",
    "        if RES == True:\n",
    "            if err:\n",
    "                return err.strip()\n",
    "            else:\n",
    "                return False\n",
    "        else:\n",
    "            return False\n",
    "\n",
    "\n",
    "\n",
    "CMD = []\n",
    "NAM = []\n",
    "NAM.append('Sophos Patch Agent') \n",
    "CMD.append('MsiExec.exe /X{{5565E71F-091B-42B8-8514-7E8944860BFD} /qb REBOOT=ReallySuppress REMOVE=ALL  /L*V c:\\windows\\temp\\Uninstall_SophosPatchAgent.log')\n",
    "NAM.append('Sophos Network Threat Protection') \n",
    "CMD.append('MsiExec.exe /X{{66967E5F-43E8-4402-87A4-04685EE5C2CB} /qb REBOOT=ReallySuppress REMOVE=ALL  /L*V c:\\windows\\temp\\Uninstall_Sophos NetworkThreatProtection.log')\n",
    "NAM.append('Sophos System Protection') \n",
    "CMD.append('MsiExec.exe /X{1093B57D-A613-47F3-90CF-0FD5C5DCFFE6} /qb REBOOT=ReallySuppress REMOVE=ALL  /L*V c:\\windows\\temp\\Uninstall_SophosSystemProtection.log')\n",
    "NAM.append('Sophos Anti-Virus')\n",
    "CMD.append('MsiExec.exe /X{6654537D-935E-41C0-A18A-C55C2BF77B7E} /qb REBOOT=ReallySuppress REMOVE=ALL  /L*V c:\\windows\\temp\\Uninstall_SophosAnti-Virus.log')\n",
    "NAM.append('Sophos Remote Management System') \n",
    "CMD.append('MsiExec.exe /X{FED1005D-CBC8-45D5-A288-FFC7BB304121} /qb REBOOT=ReallySuppress REMOVE=ALL  /L*V c:\\windows\\temp\\Uninstall_SophosRemoteManagementSystem.log')\n",
    "NAM.append('Sophos AutoUpdate')\n",
    "CMD.append('MsiExec.exe /X{AFBCA1B9-496C-4AE6-98AE-3EA1CFF65C54} /qb REBOOT=ReallySuppress REMOVE=ALL  /L*V c:\\windows\\temp\\Uninstall_SophosAutoUpdate .log')\n",
    "MsiExec.exe /I{3F170639-3DB0-4234-AFE8-7CDF27BD1C23}\n",
    "x=0\n",
    "for i in CMD:\n",
    "    print \"Uninstallting \" + NAM[x]\n",
    "    process = ExecuteCMD(i)\n",
    "    if process :\n",
    "        print \"Uninstallation  Successfull\"\n",
    "    else:\n",
    "        print \"Sophos need to restart your  system and run the script Again\"\n",
    "    print NAM[x] + \" is not installed\"\n",
    "    x+=1"
   ]
  },
  {
   "cell_type": "code",
   "execution_count": 2,
   "metadata": {},
   "outputs": [
    {
     "name": "stdout",
     "output_type": "stream",
     "text": [
      "['one', 'two', 'three', 'four', 'five', 'six', '7']\n"
     ]
    }
   ],
   "source": [
    "x = []\n",
    "x.append(\"one\")\n",
    "x.append(\"two\")\n",
    "x.append(\"three\")\n",
    "x.append(\"four\")\n",
    "x.append(\"five\")\n",
    "x.append(\"six\")\n",
    "x.append(\"7\")\n",
    "\n",
    "print x\n"
   ]
  },
  {
   "cell_type": "code",
   "execution_count": null,
   "metadata": {},
   "outputs": [],
   "source": []
  }
 ],
 "metadata": {
  "kernelspec": {
   "display_name": "Python 2",
   "language": "python",
   "name": "python2"
  },
  "language_info": {
   "codemirror_mode": {
    "name": "ipython",
    "version": 2
   },
   "file_extension": ".py",
   "mimetype": "text/x-python",
   "name": "python",
   "nbconvert_exporter": "python",
   "pygments_lexer": "ipython2",
   "version": "2.7.15"
  }
 },
 "nbformat": 4,
 "nbformat_minor": 2
}
